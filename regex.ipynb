{
  "nbformat": 4,
  "nbformat_minor": 0,
  "metadata": {
    "colab": {
      "provenance": [],
      "authorship_tag": "ABX9TyMhI8bF5bkNpH2KJuFufqTe"
    },
    "kernelspec": {
      "name": "python3",
      "display_name": "Python 3"
    },
    "language_info": {
      "name": "python"
    }
  },
  "cells": [
    {
      "cell_type": "code",
      "execution_count": 1,
      "metadata": {
        "id": "7XbxfsKNdiPa"
      },
      "outputs": [],
      "source": [
        "import re"
      ]
    },
    {
      "cell_type": "code",
      "source": [
        "re.findall(r'c.t','cat cut cot c t')"
      ],
      "metadata": {
        "colab": {
          "base_uri": "https://localhost:8080/"
        },
        "id": "fGF7wVkLdyNr",
        "outputId": "ab083c94-de8d-4843-8728-7cf8c5c50328"
      },
      "execution_count": null,
      "outputs": [
        {
          "output_type": "execute_result",
          "data": {
            "text/plain": [
              "['cat', 'cut', 'cot', 'c t']"
            ]
          },
          "metadata": {},
          "execution_count": 2
        }
      ]
    },
    {
      "cell_type": "code",
      "source": [
        "text = \"\"\"\n",
        "General text7 with multiple words:\n",
        "This is a simple text string.\n",
        "Test string with numbers 12345 and symbols !@#$%.\n",
        "Regex can be tricky at times but it's powerful.\n",
        "Look out for 2025, it's going to be an exciting year!.\n",
        "Call me at 555-123-4567 for mor info\"\"\""
      ],
      "metadata": {
        "id": "EQgI74MNd9Y7"
      },
      "execution_count": null,
      "outputs": []
    },
    {
      "cell_type": "code",
      "source": [
        "re.findall(r'\\d+',text)"
      ],
      "metadata": {
        "colab": {
          "base_uri": "https://localhost:8080/"
        },
        "id": "cdEb-IazeAlr",
        "outputId": "ce329f98-17a3-4d80-ce63-6896097c5e47"
      },
      "execution_count": null,
      "outputs": [
        {
          "output_type": "execute_result",
          "data": {
            "text/plain": [
              "['7', '12345', '2025', '555', '123', '4567']"
            ]
          },
          "metadata": {},
          "execution_count": 8
        }
      ]
    },
    {
      "cell_type": "code",
      "source": [
        "re.findall(r'\\D+',text)"
      ],
      "metadata": {
        "colab": {
          "base_uri": "https://localhost:8080/"
        },
        "id": "cJve4o_Gfzgr",
        "outputId": "9f919861-573f-41cf-8c08-b004903ca9eb"
      },
      "execution_count": null,
      "outputs": [
        {
          "output_type": "execute_result",
          "data": {
            "text/plain": [
              "['\\nGeneral text',\n",
              " ' with multiple words:\\nThis is a simple text string.\\nTest string with numbers ',\n",
              " \" and symbols !@#$%.\\nRegex can be tricky at times but it's powerful.\\nLook out for \",\n",
              " \", it's going to be an exciting.\"]"
            ]
          },
          "metadata": {},
          "execution_count": 6
        }
      ]
    },
    {
      "cell_type": "code",
      "source": [
        "re.findall(r'\\w+', 'Regex101 is #1!')"
      ],
      "metadata": {
        "colab": {
          "base_uri": "https://localhost:8080/"
        },
        "id": "wLY6KP8ef659",
        "outputId": "f45a3172-5935-4187-a837-63ff44ea7cad"
      },
      "execution_count": 46,
      "outputs": [
        {
          "output_type": "execute_result",
          "data": {
            "text/plain": [
              "['Regex101', 'is', '1']"
            ]
          },
          "metadata": {},
          "execution_count": 46
        }
      ]
    },
    {
      "cell_type": "code",
      "source": [
        "re.findall(r'\\d+','Year:2025')"
      ],
      "metadata": {
        "colab": {
          "base_uri": "https://localhost:8080/"
        },
        "id": "OU1I0-tPgbWD",
        "outputId": "19c6ff35-e6ec-40d8-f991-9ba55ec43979"
      },
      "execution_count": null,
      "outputs": [
        {
          "output_type": "execute_result",
          "data": {
            "text/plain": [
              "['2025']"
            ]
          },
          "metadata": {},
          "execution_count": 10
        }
      ]
    },
    {
      "cell_type": "code",
      "source": [
        "#GROUPS AND LOOKAROUND\n",
        "txt = \"\"\"Serial numbers: A1234b, a567bc, 24321X.\n",
        "Account number:987654321 Name: Gagan Surname: Puri\n",
        "Acoount number: 78968973\"\"\"\n",
        "re.findall(r\"Name: (\\w+)| Surname: (\\w+)\", txt)"
      ],
      "metadata": {
        "id": "o9zBNcsQgkSz",
        "colab": {
          "base_uri": "https://localhost:8080/"
        },
        "outputId": "0337cc6b-1cd2-4ab2-a6e0-2e20528b75e7"
      },
      "execution_count": 2,
      "outputs": [
        {
          "output_type": "execute_result",
          "data": {
            "text/plain": [
              "[('Gagan', ''), ('', 'Puri')]"
            ]
          },
          "metadata": {},
          "execution_count": 2
        }
      ]
    },
    {
      "cell_type": "code",
      "source": [
        "re.findall(r'(?:ha)+','hahaha')"
      ],
      "metadata": {
        "colab": {
          "base_uri": "https://localhost:8080/"
        },
        "id": "eLF_vbLtnNig",
        "outputId": "e94b48b4-a79b-4ccb-ba7d-bf502617b6b3"
      },
      "execution_count": 10,
      "outputs": [
        {
          "output_type": "execute_result",
          "data": {
            "text/plain": [
              "['hahaha']"
            ]
          },
          "metadata": {},
          "execution_count": 10
        }
      ]
    },
    {
      "cell_type": "code",
      "source": [
        "txt = \"\"\"Name: Gagan Puri\n",
        "Name: Sailesh Bahadur Yadav\n",
        "address: jpt addres 01, Nepal\"\"\"\n",
        "re.findall(r'Name: ([a-z ]+)',txt, re.I)"
      ],
      "metadata": {
        "colab": {
          "base_uri": "https://localhost:8080/"
        },
        "id": "y3KJkWQCoINE",
        "outputId": "e8b71411-7781-40ae-b078-c1a1683e7007"
      },
      "execution_count": 43,
      "outputs": [
        {
          "output_type": "execute_result",
          "data": {
            "text/plain": [
              "['Gagan Puri', 'Sailesh Bahadur Yadav']"
            ]
          },
          "metadata": {},
          "execution_count": 43
        }
      ]
    }
  ]
}